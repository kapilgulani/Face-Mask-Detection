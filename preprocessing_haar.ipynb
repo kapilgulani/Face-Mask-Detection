{
 "cells": [
  {
   "cell_type": "code",
   "execution_count": 1,
   "metadata": {},
   "outputs": [],
   "source": [
    "import cv2\n",
    "import os"
   ]
  },
  {
   "cell_type": "code",
   "execution_count": 2,
   "metadata": {},
   "outputs": [],
   "source": [
    "classifier = cv2.CascadeClassifier('Pretrained-Weights/haarcascade_frontalface_default_2.xml')"
   ]
  },
  {
   "cell_type": "code",
   "execution_count": 3,
   "metadata": {},
   "outputs": [],
   "source": [
    "def detect_face(image):\n",
    "    faces = classifier.detectMultiScale(image)\n",
    "    try:\n",
    "        face_x, face_y, face_w, face_h = faces[0]\n",
    "        offset = 10\n",
    "        image = image[int(face_y-min(face_y, offset)):int(face_y+face_h+offset), int(face_x-min(face_x, offset)):int(face_x+face_w+offset)]\n",
    "        return image, 1\n",
    "    except IndexError:\n",
    "        return image, 0"
   ]
  },
  {
   "cell_type": "code",
   "execution_count": 4,
   "metadata": {},
   "outputs": [],
   "source": [
    "def preprocess(input_path, output_path):\n",
    "    for folder in os.listdir(input_path):\n",
    "        for file in os.listdir(input_path + folder):\n",
    "            image = cv2.imread(os.path.join(input_path + folder, file))\n",
    "            image = cv2.resize(image, (256,256), interpolation = cv2.INTER_AREA)\n",
    "            image, value = detect_face(image)\n",
    "            if(value==1):  cv2.imwrite(os.path.join(output_path+folder, file), image)\n",
    "    return "
   ]
  },
  {
   "cell_type": "code",
   "execution_count": 5,
   "metadata": {},
   "outputs": [
    {
     "name": "stdout",
     "output_type": "stream",
     "text": [
      "Done!\n"
     ]
    }
   ],
   "source": [
    "DATASET_PATH = \"dataset/\"\n",
    "OUTPUT_PATH = \"preprocessed_haar/\"\n",
    "preprocess(DATASET_PATH, OUTPUT_PATH)\n",
    "print(\"Done!\")"
   ]
  }
 ],
 "metadata": {
  "kernelspec": {
   "display_name": "Python 3",
   "language": "python",
   "name": "python3"
  },
  "language_info": {
   "codemirror_mode": {
    "name": "ipython",
    "version": 3
   },
   "file_extension": ".py",
   "mimetype": "text/x-python",
   "name": "python",
   "nbconvert_exporter": "python",
   "pygments_lexer": "ipython3",
   "version": "3.7.3"
  }
 },
 "nbformat": 4,
 "nbformat_minor": 2
}
